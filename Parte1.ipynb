{
 "cells": [
  {
   "cell_type": "code",
   "execution_count": 8,
   "id": "fcdd3d91-55b0-4025-b353-633efd2e4d48",
   "metadata": {},
   "outputs": [],
   "source": [
    "import torch\n",
    "import torch.nn as nn\n",
    "import torch.optim as optim\n",
    "from torch.utils.data import TensorDataset, DataLoader\n",
    "from sklearn.datasets import load_iris\n",
    "from sklearn.model_selection import train_test_split\n",
    "from sklearn.preprocessing import StandardScaler\n",
    "import numpy as np"
   ]
  },
  {
   "cell_type": "markdown",
   "id": "557428f6-bceb-4c3f-b092-22440e9e46dd",
   "metadata": {},
   "source": [
    "### Task 1\n",
    "\n",
    "Cargue el conjunto de datos de Iris utilizando bibliotecas como sklearn.datasets. Luego, divida el conjunto de datos  en conjuntos de entrenamiento y validación. "
   ]
  },
  {
   "cell_type": "code",
   "execution_count": 4,
   "id": "19f124e4-f79b-4aec-9af4-cf2d1f778752",
   "metadata": {},
   "outputs": [
    {
     "name": "stdout",
     "output_type": "stream",
     "text": [
      "Tamaño del set de entrenamiento: 105\n",
      "Tamaño del set de validación: 45\n"
     ]
    }
   ],
   "source": [
    "iris = load_iris()\n",
    "X = iris.data         \n",
    "y = iris.target    \n",
    "\n",
    "# Normalizar características\n",
    "scaler = StandardScaler()\n",
    "X = scaler.fit_transform(X)\n",
    "\n",
    "X_train, X_val, y_train, y_val = train_test_split(\n",
    "    X, y, test_size=0.3, random_state=42, stratify=y\n",
    ")\n",
    "\n",
    "X_train_tensor = torch.tensor(X_train, dtype=torch.float32)\n",
    "y_train_tensor = torch.tensor(y_train, dtype=torch.long)\n",
    "\n",
    "X_val_tensor = torch.tensor(X_val, dtype=torch.float32)\n",
    "y_val_tensor = torch.tensor(y_val, dtype=torch.long)\n",
    "\n",
    "train_dataset = TensorDataset(X_train_tensor, y_train_tensor)\n",
    "val_dataset = TensorDataset(X_val_tensor, y_val_tensor)\n",
    "\n",
    "train_loader = DataLoader(train_dataset, batch_size=16, shuffle=True)\n",
    "val_loader = DataLoader(val_dataset, batch_size=16, shuffle=False)\n",
    "\n",
    "print(\"Tamaño del set de entrenamiento:\", len(train_dataset))\n",
    "print(\"Tamaño del set de validación:\", len(val_dataset))\n"
   ]
  },
  {
   "cell_type": "markdown",
   "id": "456bb33d-3f9c-4dce-aa67-ec39e86c8c3a",
   "metadata": {},
   "source": [
    "### Task 2\n",
    "\n",
    "Cree una red neuronal feedforward simple utilizando nn.Module de PyTorch. Luego, defina capa de entrada, capas  ocultas y capa de salida. Después, elija las funciones de activación y el número de neuronas por capa. "
   ]
  },
  {
   "cell_type": "code",
   "execution_count": 7,
   "id": "5a4ab92f-3cb5-48de-9062-53706591238a",
   "metadata": {},
   "outputs": [
    {
     "name": "stdout",
     "output_type": "stream",
     "text": [
      "FeedforwardNN(\n",
      "  (fc1): Linear(in_features=4, out_features=16, bias=True)\n",
      "  (fc2): Linear(in_features=16, out_features=8, bias=True)\n",
      "  (fc3): Linear(in_features=8, out_features=3, bias=True)\n",
      "  (relu): ReLU()\n",
      ")\n"
     ]
    }
   ],
   "source": [
    "class FeedforwardNN(nn.Module):\n",
    "    def __init__(self, input_dim=4, hidden1=16, hidden2=8, output_dim=3):\n",
    "        super(FeedforwardNN, self).__init__()\n",
    "        \n",
    "        self.fc1 = nn.Linear(input_dim, hidden1)\n",
    "        self.fc2 = nn.Linear(hidden1, hidden2)\n",
    "        self.fc3 = nn.Linear(hidden2, output_dim)\n",
    "        self.relu = nn.ReLU()\n",
    "        \n",
    "    def forward(self, x):\n",
    "        x = self.relu(self.fc1(x))   \n",
    "        x = self.relu(self.fc2(x))  \n",
    "        x = self.fc3(x)            \n",
    "        return x\n",
    "\n",
    "model = FeedforwardNN()\n",
    "\n",
    "print(model)\n"
   ]
  },
  {
   "cell_type": "markdown",
   "id": "bc74c5c3-0c3c-4961-8ecd-31f8caa308dd",
   "metadata": {},
   "source": [
    "### Task 3\n",
    "\n",
    "Utilice diferentes funciones de pérdida comunes como Cross-Entropy Loss y MSE para clasificación. Entrene el  modelo con diferentes funciones de pérdida y registre las pérdidas de entrenamiento y test. Debe utilizar al menos 3  diferentes funciones. Es decir, procure que su código sea capaz de parametrizar el uso de diferentes funciones de  pérdida.  "
   ]
  },
  {
   "cell_type": "code",
   "execution_count": 9,
   "id": "edf2ebdc-ebfb-4e84-83be-557f68702cf9",
   "metadata": {},
   "outputs": [
    {
     "name": "stdout",
     "output_type": "stream",
     "text": [
      "\n",
      "Entrenando con CROSS_ENTROPY...\n",
      "\n",
      "[cross_entropy] Epoch 10/50 Train Loss: 0.2961, Val Loss: 0.3506\n",
      "[cross_entropy] Epoch 20/50 Train Loss: 0.0591, Val Loss: 0.1258\n",
      "[cross_entropy] Epoch 30/50 Train Loss: 0.0302, Val Loss: 0.1497\n",
      "[cross_entropy] Epoch 40/50 Train Loss: 0.0266, Val Loss: 0.2220\n",
      "[cross_entropy] Epoch 50/50 Train Loss: 0.0306, Val Loss: 0.1532\n",
      "\n",
      "Entrenando con MSE...\n",
      "\n",
      "[mse] Epoch 10/50 Train Loss: 0.0229, Val Loss: 0.0309\n",
      "[mse] Epoch 20/50 Train Loss: 0.0176, Val Loss: 0.0256\n",
      "[mse] Epoch 30/50 Train Loss: 0.0145, Val Loss: 0.0241\n",
      "[mse] Epoch 40/50 Train Loss: 0.0122, Val Loss: 0.0213\n",
      "[mse] Epoch 50/50 Train Loss: 0.0116, Val Loss: 0.0204\n",
      "\n",
      "Entrenando con NLL...\n",
      "\n",
      "[nll] Epoch 10/50 Train Loss: 0.1611, Val Loss: 0.2519\n",
      "[nll] Epoch 20/50 Train Loss: 0.0397, Val Loss: 0.1157\n",
      "[nll] Epoch 30/50 Train Loss: 0.0242, Val Loss: 0.1115\n",
      "[nll] Epoch 40/50 Train Loss: 0.0134, Val Loss: 0.1128\n",
      "[nll] Epoch 50/50 Train Loss: 0.0147, Val Loss: 0.1470\n"
     ]
    }
   ],
   "source": [
    "def train_model(loss_fn_name, train_loader, val_loader, epochs=50, lr=0.01):\n",
    "    input_dim, output_dim = 4, 3\n",
    "    model = FeedforwardNN(input_dim=input_dim, output_dim=output_dim)\n",
    "    optimizer = optim.Adam(model.parameters(), lr=lr)\n",
    "\n",
    "    loss_functions = {\n",
    "        \"cross_entropy\": nn.CrossEntropyLoss(),\n",
    "        \"mse\": nn.MSELoss(),\n",
    "        \"nll\": nn.NLLLoss()\n",
    "    }\n",
    "    criterion = loss_functions[loss_fn_name]\n",
    "\n",
    "    history = {\"train_loss\": [], \"val_loss\": []}\n",
    "\n",
    "    for epoch in range(epochs):\n",
    "        model.train()\n",
    "        train_loss = 0.0\n",
    "\n",
    "        for X_batch, y_batch in train_loader:\n",
    "            optimizer.zero_grad()\n",
    "\n",
    "            outputs = model(X_batch)\n",
    "\n",
    "            if loss_fn_name == \"mse\":\n",
    "                y_batch_oh = nn.functional.one_hot(y_batch, num_classes=output_dim).float()\n",
    "                loss = criterion(outputs, y_batch_oh)\n",
    "            elif loss_fn_name == \"nll\":\n",
    "                log_probs = nn.functional.log_softmax(outputs, dim=1)\n",
    "                loss = criterion(log_probs, y_batch)\n",
    "            else:\n",
    "                loss = criterion(outputs, y_batch)\n",
    "\n",
    "            loss.backward()\n",
    "            optimizer.step()\n",
    "            train_loss += loss.item()\n",
    "\n",
    "        model.eval()\n",
    "        val_loss = 0.0\n",
    "        with torch.no_grad():\n",
    "            for X_val, y_val in val_loader:\n",
    "                outputs = model(X_val)\n",
    "\n",
    "                if loss_fn_name == \"mse\":\n",
    "                    y_val_oh = nn.functional.one_hot(y_val, num_classes=output_dim).float()\n",
    "                    loss = criterion(outputs, y_val_oh)\n",
    "                elif loss_fn_name == \"nll\":\n",
    "                    log_probs = nn.functional.log_softmax(outputs, dim=1)\n",
    "                    loss = criterion(log_probs, y_val)\n",
    "                else:\n",
    "                    loss = criterion(outputs, y_val)\n",
    "\n",
    "                val_loss += loss.item()\n",
    "\n",
    "        history[\"train_loss\"].append(train_loss / len(train_loader))\n",
    "        history[\"val_loss\"].append(val_loss / len(val_loader))\n",
    "\n",
    "        if (epoch + 1) % 10 == 0:\n",
    "            print(f\"[{loss_fn_name}] Epoch {epoch+1}/{epochs} \"\n",
    "                  f\"Train Loss: {history['train_loss'][-1]:.4f}, \"\n",
    "                  f\"Val Loss: {history['val_loss'][-1]:.4f}\")\n",
    "\n",
    "    return history\n",
    "\n",
    "losses = {}\n",
    "for loss_name in [\"cross_entropy\", \"mse\", \"nll\"]:\n",
    "    print(f\"\\nEntrenando con {loss_name.upper()}...\\n\")\n",
    "    history = train_model(loss_name, train_loader, val_loader, epochs=50, lr=0.01)\n",
    "    losses[loss_name] = history"
   ]
  },
  {
   "cell_type": "code",
   "execution_count": null,
   "id": "dafee266-806d-4dc9-bd8d-58a7c9cef6b7",
   "metadata": {},
   "outputs": [],
   "source": []
  },
  {
   "cell_type": "code",
   "execution_count": null,
   "id": "001a8c20-2f22-4a38-bf5d-2799cc11d3e6",
   "metadata": {},
   "outputs": [],
   "source": []
  },
  {
   "cell_type": "code",
   "execution_count": null,
   "id": "2ce54f06-aaf3-415f-882b-508f0159c8db",
   "metadata": {},
   "outputs": [],
   "source": []
  }
 ],
 "metadata": {
  "kernelspec": {
   "display_name": "Python 3 (ipykernel)",
   "language": "python",
   "name": "python3"
  },
  "language_info": {
   "codemirror_mode": {
    "name": "ipython",
    "version": 3
   },
   "file_extension": ".py",
   "mimetype": "text/x-python",
   "name": "python",
   "nbconvert_exporter": "python",
   "pygments_lexer": "ipython3",
   "version": "3.13.7"
  }
 },
 "nbformat": 4,
 "nbformat_minor": 5
}
